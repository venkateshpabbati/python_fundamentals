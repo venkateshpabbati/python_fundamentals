{
  "nbformat": 4,
  "nbformat_minor": 0,
  "metadata": {
    "colab": {
      "provenance": [],
      "authorship_tag": "ABX9TyM1/v783+YdGU76ORyM8kXD",
      "include_colab_link": true
    },
    "kernelspec": {
      "name": "python3",
      "display_name": "Python 3"
    },
    "language_info": {
      "name": "python"
    }
  },
  "cells": [
    {
      "cell_type": "markdown",
      "metadata": {
        "id": "view-in-github",
        "colab_type": "text"
      },
      "source": [
        "<a href=\"https://colab.research.google.com/github/venkateshpabbati/python_fundamentals/blob/main/Untitled12.ipynb\" target=\"_parent\"><img src=\"https://colab.research.google.com/assets/colab-badge.svg\" alt=\"Open In Colab\"/></a>"
      ]
    },
    {
      "cell_type": "code",
      "source": [
        "hindi = int(input('enter hindi score:'))\n",
        "english = int(input('enter english score:'))\n",
        "science = int(input('enter science score:'))\n",
        "score = hindi+english+science\n",
        "print('score:', score)"
      ],
      "metadata": {
        "colab": {
          "base_uri": "https://localhost:8080/"
        },
        "id": "cuLsJhFZVpR9",
        "outputId": "e487e3e6-915b-4f5e-80aa-99f75913a387"
      },
      "execution_count": 63,
      "outputs": [
        {
          "output_type": "stream",
          "name": "stdout",
          "text": [
            "enter hindi score:12\n",
            "enter english score:23\n",
            "enter science score:34\n",
            "score: 69\n"
          ]
        }
      ]
    },
    {
      "cell_type": "code",
      "source": [
        "t = float(input('enter time in seconds:'))\n",
        "m = round(t/60)\n",
        "s = t-m*60\n",
        "print('time is', m, 'minutes', s, 'seconds')"
      ],
      "metadata": {
        "colab": {
          "base_uri": "https://localhost:8080/"
        },
        "id": "oFKsu-7JWUx9",
        "outputId": "9a869ff5-b23d-4b57-9a37-416f6f3f83df"
      },
      "execution_count": 64,
      "outputs": [
        {
          "output_type": "stream",
          "name": "stdout",
          "text": [
            "enter time in seconds:4576\n",
            "time is 76 minutes 16.0 seconds\n"
          ]
        }
      ]
    },
    {
      "cell_type": "code",
      "source": [
        "temp = int(input('ente the temperature in fahrenheit:'))\n",
        "cel = round((temp-32)*(5/9), 2)\n",
        "print('temperature is',  cel, 'celsius')"
      ],
      "metadata": {
        "colab": {
          "base_uri": "https://localhost:8080/"
        },
        "id": "juzugF4uXa2v",
        "outputId": "590245fa-fdb5-4a26-a193-588677c47334"
      },
      "execution_count": 65,
      "outputs": [
        {
          "output_type": "stream",
          "name": "stdout",
          "text": [
            "ente the temperature in fahrenheit:104\n",
            "temperature is 40.0 celsius\n"
          ]
        }
      ]
    },
    {
      "cell_type": "code",
      "execution_count": 5,
      "metadata": {
        "colab": {
          "base_uri": "https://localhost:8080/"
        },
        "id": "hrM6B53NHrdF",
        "outputId": "3898250c-6757-42a6-9bce-78e123c12a60"
      },
      "outputs": [
        {
          "output_type": "stream",
          "name": "stdout",
          "text": [
            "number of seconds:359\n",
            "convert seconds in to min and sec: 5 minutes 59 seconds\n"
          ]
        }
      ],
      "source": [
        "ip = int(input(\"number of seconds:\",  ))\n",
        "print('convert seconds in to min and sec:', ip//60,  'minutes', ip%60,  'seconds')"
      ]
    },
    {
      "cell_type": "code",
      "source": [
        "print('this is nika. \\n I am from ND')"
      ],
      "metadata": {
        "colab": {
          "base_uri": "https://localhost:8080/"
        },
        "id": "IWVIrQXkIVgu",
        "outputId": "6e337a71-c084-465a-d6dd-23feb74081ea"
      },
      "execution_count": 6,
      "outputs": [
        {
          "output_type": "stream",
          "name": "stdout",
          "text": [
            "this is nika. \n",
            " I am from ND\n"
          ]
        }
      ]
    },
    {
      "cell_type": "code",
      "source": [
        "txt = 'one one was a race horse, two two was one too.'\n",
        "txt.replace('one', 'three')"
      ],
      "metadata": {
        "colab": {
          "base_uri": "https://localhost:8080/",
          "height": 35
        },
        "id": "b-T2E__II-9T",
        "outputId": "f840fcea-9c9f-4aab-dcc7-b960954e995b"
      },
      "execution_count": 7,
      "outputs": [
        {
          "output_type": "execute_result",
          "data": {
            "text/plain": [
              "'three three was a race horse, two two was three too.'"
            ],
            "application/vnd.google.colaboratory.intrinsic+json": {
              "type": "string"
            }
          },
          "metadata": {},
          "execution_count": 7
        }
      ]
    },
    {
      "cell_type": "code",
      "source": [
        "txt = 'hello, welcome to world.'\n",
        "x = txt.find('e')\n",
        "x"
      ],
      "metadata": {
        "colab": {
          "base_uri": "https://localhost:8080/"
        },
        "id": "4c666rziJMR1",
        "outputId": "e1f8b4a3-3846-4f94-b789-b4005ff5c101"
      },
      "execution_count": 9,
      "outputs": [
        {
          "output_type": "execute_result",
          "data": {
            "text/plain": [
              "1"
            ]
          },
          "metadata": {},
          "execution_count": 9
        }
      ]
    },
    {
      "cell_type": "code",
      "source": [
        "txt = 'company 12'\n",
        "x = txt.isalnum()\n",
        "x"
      ],
      "metadata": {
        "colab": {
          "base_uri": "https://localhost:8080/"
        },
        "id": "PR6hdwlqJZbN",
        "outputId": "6e3d009c-3608-45ac-9a68-3fa808f64164"
      },
      "execution_count": 10,
      "outputs": [
        {
          "output_type": "execute_result",
          "data": {
            "text/plain": [
              "False"
            ]
          },
          "metadata": {},
          "execution_count": 10
        }
      ]
    },
    {
      "cell_type": "code",
      "source": [
        "txt = 'company12'\n",
        "x = txt.isalnum()\n",
        "x"
      ],
      "metadata": {
        "colab": {
          "base_uri": "https://localhost:8080/"
        },
        "id": "DeApkDH5JmVI",
        "outputId": "e5076ccc-4bf1-4204-8e7e-77c88c88abee"
      },
      "execution_count": 11,
      "outputs": [
        {
          "output_type": "execute_result",
          "data": {
            "text/plain": [
              "True"
            ]
          },
          "metadata": {},
          "execution_count": 11
        }
      ]
    },
    {
      "cell_type": "code",
      "source": [
        "txt = 'hello, my name is peter, i am 26 years old'\n",
        "x = txt.split(',')\n",
        "x"
      ],
      "metadata": {
        "colab": {
          "base_uri": "https://localhost:8080/"
        },
        "id": "SP5FAW59J2iv",
        "outputId": "09991830-d605-4dba-b14d-e53567941579"
      },
      "execution_count": 12,
      "outputs": [
        {
          "output_type": "execute_result",
          "data": {
            "text/plain": [
              "['hello', ' my name is peter', ' i am 26 years old']"
            ]
          },
          "metadata": {},
          "execution_count": 12
        }
      ]
    },
    {
      "cell_type": "code",
      "source": [
        "txt = 'hello, my name is peter, i am 26 years old'\n",
        "x = txt.split(',', maxsplit =1)\n",
        "x"
      ],
      "metadata": {
        "colab": {
          "base_uri": "https://localhost:8080/"
        },
        "id": "kMBnJ971KIYd",
        "outputId": "a2990add-a640-41e6-d055-feac71d12945"
      },
      "execution_count": 16,
      "outputs": [
        {
          "output_type": "execute_result",
          "data": {
            "text/plain": [
              "['hello', ' my name is peter, i am 26 years old']"
            ]
          },
          "metadata": {},
          "execution_count": 16
        }
      ]
    },
    {
      "cell_type": "code",
      "source": [
        "# string methods"
      ],
      "metadata": {
        "id": "JE6qDsgPKRLh"
      },
      "execution_count": 17,
      "outputs": []
    },
    {
      "cell_type": "code",
      "source": [
        "mytuple = ('john', 'peter', 'vicky')\n",
        "''.join(mytuple)"
      ],
      "metadata": {
        "colab": {
          "base_uri": "https://localhost:8080/",
          "height": 35
        },
        "id": "UCqBHTw-KXsw",
        "outputId": "9b4f797a-3b1b-417c-fa67-bf0197aaf5d7"
      },
      "execution_count": 19,
      "outputs": [
        {
          "output_type": "execute_result",
          "data": {
            "text/plain": [
              "'johnpetervicky'"
            ],
            "application/vnd.google.colaboratory.intrinsic+json": {
              "type": "string"
            }
          },
          "metadata": {},
          "execution_count": 19
        }
      ]
    },
    {
      "cell_type": "code",
      "source": [
        "mytuple = ('john', 'peter', 'vicky')\n",
        "' '.join(mytuple)"
      ],
      "metadata": {
        "colab": {
          "base_uri": "https://localhost:8080/",
          "height": 35
        },
        "id": "mEAApdBuKo7G",
        "outputId": "8e3aeae2-4589-4480-c80f-6408c847e514"
      },
      "execution_count": 20,
      "outputs": [
        {
          "output_type": "execute_result",
          "data": {
            "text/plain": [
              "'john peter vicky'"
            ],
            "application/vnd.google.colaboratory.intrinsic+json": {
              "type": "string"
            }
          },
          "metadata": {},
          "execution_count": 20
        }
      ]
    },
    {
      "cell_type": "code",
      "source": [
        "mytuple = ('john', 'peter', 'vicky')\n",
        "\"#\".join(mytuple)"
      ],
      "metadata": {
        "colab": {
          "base_uri": "https://localhost:8080/",
          "height": 35
        },
        "id": "Zp-SsOmsKtXq",
        "outputId": "55b9d6af-8611-4cf6-ee8b-4a89ca3ae217"
      },
      "execution_count": 23,
      "outputs": [
        {
          "output_type": "execute_result",
          "data": {
            "text/plain": [
              "'john#peter#vicky'"
            ],
            "application/vnd.google.colaboratory.intrinsic+json": {
              "type": "string"
            }
          },
          "metadata": {},
          "execution_count": 23
        }
      ]
    },
    {
      "cell_type": "code",
      "source": [
        "s =  '         aaa,bbb,ccc,dd             '\n",
        "s.rstrip()"
      ],
      "metadata": {
        "colab": {
          "base_uri": "https://localhost:8080/",
          "height": 35
        },
        "id": "RtnY_F97KvYk",
        "outputId": "220e77c9-ffc4-449b-dc66-67da1bbaf847"
      },
      "execution_count": 26,
      "outputs": [
        {
          "output_type": "execute_result",
          "data": {
            "text/plain": [
              "'         aaa,bbb,ccc,dd'"
            ],
            "application/vnd.google.colaboratory.intrinsic+json": {
              "type": "string"
            }
          },
          "metadata": {},
          "execution_count": 26
        }
      ]
    },
    {
      "cell_type": "code",
      "source": [
        "s = '         aaa,bbb,ccc,dd             '\n",
        "s.lstrip()"
      ],
      "metadata": {
        "colab": {
          "base_uri": "https://localhost:8080/",
          "height": 35
        },
        "id": "OAs0KQ34LjM7",
        "outputId": "20be4acd-10be-4ec1-80d3-73b24d6d6ce7"
      },
      "execution_count": 27,
      "outputs": [
        {
          "output_type": "execute_result",
          "data": {
            "text/plain": [
              "'aaa,bbb,ccc,dd             '"
            ],
            "application/vnd.google.colaboratory.intrinsic+json": {
              "type": "string"
            }
          },
          "metadata": {},
          "execution_count": 27
        }
      ]
    },
    {
      "cell_type": "code",
      "source": [
        "s = '         aaa,bbb,ccc,dd             '\n",
        "s.strip()"
      ],
      "metadata": {
        "colab": {
          "base_uri": "https://localhost:8080/",
          "height": 35
        },
        "id": "wRJQ3EWLLyQH",
        "outputId": "8ce2876c-7906-4785-f14a-d7c50908a553"
      },
      "execution_count": 28,
      "outputs": [
        {
          "output_type": "execute_result",
          "data": {
            "text/plain": [
              "'aaa,bbb,ccc,dd'"
            ],
            "application/vnd.google.colaboratory.intrinsic+json": {
              "type": "string"
            }
          },
          "metadata": {},
          "execution_count": 28
        }
      ]
    },
    {
      "cell_type": "code",
      "source": [
        "s = 'I love my India'\n",
        "s.startswith('a')"
      ],
      "metadata": {
        "colab": {
          "base_uri": "https://localhost:8080/"
        },
        "id": "FSnMDMk4L1OS",
        "outputId": "038ab6df-3b9d-41f6-c040-1e6d966d97bf"
      },
      "execution_count": 30,
      "outputs": [
        {
          "output_type": "execute_result",
          "data": {
            "text/plain": [
              "False"
            ]
          },
          "metadata": {},
          "execution_count": 30
        }
      ]
    },
    {
      "cell_type": "code",
      "source": [
        "s = 'I love my India'\n",
        "s.endswith('I')"
      ],
      "metadata": {
        "colab": {
          "base_uri": "https://localhost:8080/"
        },
        "id": "AsLSTdASMHW3",
        "outputId": "0f6b7f0f-a51a-46a7-fa2d-3b8a847c97cb"
      },
      "execution_count": 31,
      "outputs": [
        {
          "output_type": "execute_result",
          "data": {
            "text/plain": [
              "False"
            ]
          },
          "metadata": {},
          "execution_count": 31
        }
      ]
    },
    {
      "cell_type": "code",
      "source": [
        "s = 'I love my India'\n",
        "s.endswith('a')"
      ],
      "metadata": {
        "colab": {
          "base_uri": "https://localhost:8080/"
        },
        "id": "Huzh2-hlMOu2",
        "outputId": "c6533909-a12f-4b15-cc69-c154110553f2"
      },
      "execution_count": 32,
      "outputs": [
        {
          "output_type": "execute_result",
          "data": {
            "text/plain": [
              "True"
            ]
          },
          "metadata": {},
          "execution_count": 32
        }
      ]
    },
    {
      "cell_type": "code",
      "source": [
        "s = 'I love my India'\n",
        "s.endswith('A')"
      ],
      "metadata": {
        "colab": {
          "base_uri": "https://localhost:8080/"
        },
        "id": "aYq_gnOFMRaR",
        "outputId": "6092c8fd-9d74-41ee-e2a2-5cb3b1681c6e"
      },
      "execution_count": 33,
      "outputs": [
        {
          "output_type": "execute_result",
          "data": {
            "text/plain": [
              "False"
            ]
          },
          "metadata": {},
          "execution_count": 33
        }
      ]
    },
    {
      "cell_type": "code",
      "source": [
        "txt = 'banana'\n",
        "x = txt.center(80, '*')\n",
        "print(x)"
      ],
      "metadata": {
        "colab": {
          "base_uri": "https://localhost:8080/"
        },
        "id": "aRi0C6_SMS_A",
        "outputId": "340e6c57-2fa6-4f63-d0c6-19ff33ae3c79"
      },
      "execution_count": 36,
      "outputs": [
        {
          "output_type": "stream",
          "name": "stdout",
          "text": [
            "*************************************banana*************************************\n"
          ]
        }
      ]
    },
    {
      "cell_type": "code",
      "source": [
        "txt = 'I love apples, apples are my favourite fruit'\n",
        "x = txt.count('apples')\n",
        "print(x)"
      ],
      "metadata": {
        "colab": {
          "base_uri": "https://localhost:8080/"
        },
        "id": "0sbw1qxNMhKB",
        "outputId": "132b95db-ac41-4612-eb94-62892b81d88e"
      },
      "execution_count": 40,
      "outputs": [
        {
          "output_type": "stream",
          "name": "stdout",
          "text": [
            "2\n"
          ]
        }
      ]
    },
    {
      "cell_type": "code",
      "source": [
        "txt = 'I love apples, apples are my apple favourite fruit'\n",
        "x = txt.count('apple', 6, 36)\n",
        "print(x)"
      ],
      "metadata": {
        "colab": {
          "base_uri": "https://localhost:8080/"
        },
        "id": "xIO6BYWRM9Kl",
        "outputId": "625eab74-c445-4abb-e6f1-d84f15bff319"
      },
      "execution_count": 53,
      "outputs": [
        {
          "output_type": "stream",
          "name": "stdout",
          "text": [
            "3\n"
          ]
        }
      ]
    },
    {
      "cell_type": "code",
      "source": [
        "age = int(input())\n",
        "if (age>18):\n",
        "  print('you can vote')"
      ],
      "metadata": {
        "colab": {
          "base_uri": "https://localhost:8080/"
        },
        "id": "F3RFBtqkNLiS",
        "outputId": "66f8c6b3-9387-4900-9508-fdb03120642d"
      },
      "execution_count": 55,
      "outputs": [
        {
          "output_type": "stream",
          "name": "stdout",
          "text": [
            "56\n",
            "you can vote\n"
          ]
        }
      ]
    },
    {
      "cell_type": "code",
      "source": [
        "age = int(input())\n",
        "if (age>18):\n",
        "  print('you can vote')\n",
        "else:\n",
        "  print('you cant vote')"
      ],
      "metadata": {
        "colab": {
          "base_uri": "https://localhost:8080/"
        },
        "id": "W8vKpJQCRMWy",
        "outputId": "ce093f01-84ab-486f-f5ee-7753375281a1"
      },
      "execution_count": 56,
      "outputs": [
        {
          "output_type": "stream",
          "name": "stdout",
          "text": [
            "12\n",
            "you cant vote\n"
          ]
        }
      ]
    },
    {
      "cell_type": "code",
      "source": [
        "number = int(input('enter number:'))\n",
        "if (number == 0):\n",
        "  print('number is zero')\n",
        "elif (number%2 == 0):\n",
        "  print('number is even')\n",
        "elif (number > 0):\n",
        "  print('number is positive')\n",
        "elif (number < 0):\n",
        "  print('number is negative')\n",
        "else:\n",
        "  print('number is odd')"
      ],
      "metadata": {
        "colab": {
          "base_uri": "https://localhost:8080/"
        },
        "id": "BS15dBOKRb-l",
        "outputId": "c0d50bf4-ec98-4f2a-fc54-d76dc3a06404"
      },
      "execution_count": 61,
      "outputs": [
        {
          "output_type": "stream",
          "name": "stdout",
          "text": [
            "enter number:-20\n",
            "number is even\n"
          ]
        }
      ]
    },
    {
      "cell_type": "code",
      "source": [
        "number = int(input('enter number:'))\n",
        "if (number == 0):\n",
        "  print('number is zero')\n",
        "if (number%2 == 0):\n",
        "  print('number is even')\n",
        "if (number > 0):\n",
        "  print('number is positive')\n",
        "if (number < 0):\n",
        "  print('number is negative')\n",
        "if (number%2 != 0):\n",
        "  print('number is odd')"
      ],
      "metadata": {
        "colab": {
          "base_uri": "https://localhost:8080/"
        },
        "id": "GFfHEoRzUOPS",
        "outputId": "91fb41b7-0e1c-46fd-ad3b-a55011036168"
      },
      "execution_count": 62,
      "outputs": [
        {
          "output_type": "stream",
          "name": "stdout",
          "text": [
            "enter number:-20\n",
            "number is even\n",
            "number is negative\n"
          ]
        }
      ]
    },
    {
      "cell_type": "code",
      "source": [
        "number = int(input('enter number:'))\n",
        "if (number > 0):\n",
        "  print('positive number')\n",
        "  if (number%2 == 0):\n",
        "    print('even number')\n",
        "  else:\n",
        "    print('odd')\n",
        "else:\n",
        "  print('negative number')"
      ],
      "metadata": {
        "colab": {
          "base_uri": "https://localhost:8080/"
        },
        "id": "xOfYgZ0rUqrJ",
        "outputId": "bf3bb3a6-1430-4d44-baf7-7499a944994e"
      },
      "execution_count": 66,
      "outputs": [
        {
          "output_type": "stream",
          "name": "stdout",
          "text": [
            "enter number:9\n",
            "positive number\n",
            "odd\n"
          ]
        }
      ]
    },
    {
      "cell_type": "code",
      "source": [
        "number = int(input('enter a number from 1 to 14:'))\n",
        "if number < 7:\n",
        "  if number <=3:\n",
        "    print('strong acid')\n",
        "  else:\n",
        "      print('weak acid')\n",
        "elif number > 7 and number <=14:\n",
        "  if number <=11:\n",
        "    print('weak base')\n",
        "  else:\n",
        "      print('strong base')\n",
        "else:\n",
        "  print('not valid pH')"
      ],
      "metadata": {
        "colab": {
          "base_uri": "https://localhost:8080/"
        },
        "id": "kaL1gqUIZBoz",
        "outputId": "345e953f-5908-4577-c558-15d050a9d15e"
      },
      "execution_count": 69,
      "outputs": [
        {
          "output_type": "stream",
          "name": "stdout",
          "text": [
            "enter a number from 1 to 14:5\n",
            "weak acid\n"
          ]
        }
      ]
    },
    {
      "cell_type": "code",
      "source": [
        "number = int(input('enter a number from 1 to 14:'))\n",
        "if number >= 1 and number < 7:\n",
        "  if number <=3:\n",
        "    print('strong acid')\n",
        "  else:\n",
        "      print('weak acid')\n",
        "elif number == 7:\n",
        "  print('neutral')\n",
        "elif number > 7 and number <=14:\n",
        "  if number <=11:\n",
        "    print('weak base')\n",
        "  else:\n",
        "      print('strong base')\n",
        "else:\n",
        "  print('not valid pH')"
      ],
      "metadata": {
        "colab": {
          "base_uri": "https://localhost:8080/"
        },
        "id": "vrTNqIakbMuv",
        "outputId": "c92db87c-3d5f-45d3-a7b6-1916074bf166"
      },
      "execution_count": 75,
      "outputs": [
        {
          "output_type": "stream",
          "name": "stdout",
          "text": [
            "enter a number from 1 to 14:2\n",
            "strong acid\n"
          ]
        }
      ]
    },
    {
      "cell_type": "code",
      "source": [
        "pH=int(input(\"Enter the pH level\"))\n",
        "if (pH>=1 and pH<=3):\n",
        "    print(\"strong acid\")\n",
        "elif (pH>=4 and pH<=6):\n",
        "    print(\"weak acid\")\n",
        "elif (pH==7):\n",
        "    print(\"neutral\")\n",
        "elif (pH>=8 and pH<=11):\n",
        "    print(\"weak base\")\n",
        "elif (pH>=12 and pH<=14):\n",
        "    print(\"strong base\")\n",
        "else:\n",
        "    print(\"not valid ph level\")"
      ],
      "metadata": {
        "colab": {
          "base_uri": "https://localhost:8080/"
        },
        "id": "UaE8mMPibUlz",
        "outputId": "b6cfaa54-e549-4cd7-f0e8-720ca00da21b"
      },
      "execution_count": 78,
      "outputs": [
        {
          "output_type": "stream",
          "name": "stdout",
          "text": [
            "Enter the pH level1\n",
            "strong acid\n"
          ]
        }
      ]
    },
    {
      "cell_type": "code",
      "source": [],
      "metadata": {
        "id": "rwr1f1MbedlV"
      },
      "execution_count": 78,
      "outputs": []
    }
  ]
}